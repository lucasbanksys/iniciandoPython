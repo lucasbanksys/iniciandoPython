{
  "nbformat": 4,
  "nbformat_minor": 0,
  "metadata": {
    "colab": {
      "name": "Projeto01Detetive.ipynb",
      "provenance": [],
      "authorship_tag": "ABX9TyN/UiA7rNroff8c1pkZOay9",
      "include_colab_link": true
    },
    "kernelspec": {
      "name": "python3",
      "display_name": "Python 3"
    },
    "language_info": {
      "name": "python"
    }
  },
  "cells": [
    {
      "cell_type": "markdown",
      "metadata": {
        "id": "view-in-github",
        "colab_type": "text"
      },
      "source": [
        "<a href=\"https://colab.research.google.com/github/lucasbanksys/iniciandoPython/blob/main/Projeto01Detetive.ipynb\" target=\"_parent\"><img src=\"https://colab.research.google.com/assets/colab-badge.svg\" alt=\"Open In Colab\"/></a>"
      ]
    },
    {
      "cell_type": "markdown",
      "metadata": {
        "id": "wB2lqFgEVR7V"
      },
      "source": [
        "Esse projeto tem a finalidade de fixar os conhecimentos de Variáveis, Print, Input e Condicionais, para isso crie um programa que faca 5 perguntas para uma pessoa sobre um crime. As perguntas são:\n",
        "\n",
        "\n",
        "*   \"Você telefonou para a vítima?\"\n",
        "*   \"Você esteve no local do crime?\"\n",
        "*   \"Você mora perto da vítima?\"\n",
        "*   \"Você devia para a vítima?\"\n",
        "*   \"Você já trabalhou com a vítima?\"\n",
        "\n",
        "O programa deve, no final, emitir uma classificacão sobre a participacão da pessoa no crime.\n",
        "\n",
        "Se a pessoa responder positivamente a:\n",
        "\n",
        "\n",
        "*   2 questões ela deve ser classificada como \"Suspeita\",\n",
        "*   Entre 3 e 4 como \"Cúmplice\",\n",
        "*   5 como \"Assassino\",\n",
        "*   Caso contrário, ele será classificado como \"Inocente\".\n",
        "\n",
        "O projeto deve ser feito individualmente e entregue até o final da aula 06.\n",
        "\n",
        "\n",
        "\n",
        "\n",
        "\n"
      ]
    },
    {
      "cell_type": "code",
      "metadata": {
        "colab": {
          "base_uri": "https://localhost:8080/"
        },
        "id": "G2nsHzazVMPt",
        "outputId": "23e22263-dd71-49df-9c13-97786cd57fb8"
      },
      "source": [
        "#CODE BY LS 2021\n",
        "\n",
        "# criei uma variável com valor 0\n",
        "\n",
        "classificacao = 0 \n",
        "\n",
        "# fui fazendo as perguntas e se o usuário digitar S em sua resposta a\n",
        "# variável classificacao soma +1 em seu valor que inicialmente era 0.\n",
        "\n",
        "pergunta1 = input(\"Você telefonou para a vítima? [S/N]: \").strip().upper()[0]\n",
        "if pergunta1 == \"S\":\n",
        "  classificacao += 1\n",
        "pergunta2 = input(\"Você esteve no local do crime? [S/N]: \").strip().upper()[0]\n",
        "if pergunta2 == \"S\":\n",
        "  classificacao += 1\n",
        "pergunta3 = input(\"Você mora perto da vítima? [S/N]: \").strip().upper()[0]\n",
        "if pergunta3 == \"S\":\n",
        "  classificacao += 1\n",
        "pergunta4 = input(\"Você devia para a vítima? [S/N]: \").strip().upper()[0]\n",
        "if pergunta4 == \"S\":\n",
        "  classificacao += 1\n",
        "pergunta5 = input(\"Você já trabalhou com a vítima? [S/N]: \").strip().upper()[0]\n",
        "if pergunta5 == \"S\":\n",
        "  classificacao += 1\n",
        "\n",
        "# após fazer todas as perguntas a variável classificacao vai ter algum valor \n",
        "# entre 0 e 5. Peguei esse valor e fiz comparacoes:\n",
        "\n",
        "if classificacao == 2:          # se a variavel classificacao tiver recebido 2 \"S\" (ou seja o valor dela for 2) vai imprimir:\n",
        "  print(\"\\nSuspeita\")\n",
        "elif classificacao == 3 or classificacao == 4:            # se a variavel classificacao tiver recebido 3 ou 4 \"S\" vai imprimir:\n",
        "  print(\"\\nCúmplice\")\n",
        "elif classificacao == 5:                       # se a variavel classificacao tiver recebido 5 \"S\" vai imprimir:\n",
        "  print(\"\\nAssassino\")\n",
        "else:                    # se não tiver recebido nenhum dos valores anteriores vai imprimir:\n",
        "  print(\"\\nInocente\")\n",
        "\n",
        "\n",
        "\n",
        "#CODE BY LS 2021"
      ],
      "execution_count": null,
      "outputs": [
        {
          "output_type": "stream",
          "text": [
            "Você telefonou para a vítima? [S/N]: S\n",
            "Você esteve no local do crime? [S/N]: N\n",
            "Você mora perto da vítima? [S/N]: N\n",
            "Você devia para a vítima? [S/N]: S\n",
            "Você já trabalhou com a vítima? [S/N]: S\n",
            "\n",
            "Cúmplice\n"
          ],
          "name": "stdout"
        }
      ]
    }
  ]
}