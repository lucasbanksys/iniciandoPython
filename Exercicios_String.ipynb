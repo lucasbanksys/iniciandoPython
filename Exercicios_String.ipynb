{
  "nbformat": 4,
  "nbformat_minor": 0,
  "metadata": {
    "colab": {
      "name": "Exercicios_String.ipynb",
      "provenance": [],
      "collapsed_sections": [],
      "include_colab_link": true
    },
    "kernelspec": {
      "name": "python3",
      "display_name": "Python 3"
    },
    "language_info": {
      "name": "python"
    }
  },
  "cells": [
    {
      "cell_type": "markdown",
      "metadata": {
        "id": "view-in-github",
        "colab_type": "text"
      },
      "source": [
        "<a href=\"https://colab.research.google.com/github/lucasbanksys/iniciandoPython/blob/main/Exercicios_String.ipynb\" target=\"_parent\"><img src=\"https://colab.research.google.com/assets/colab-badge.svg\" alt=\"Open In Colab\"/></a>"
      ]
    },
    {
      "cell_type": "markdown",
      "metadata": {
        "id": "wbV2YraddQOF"
      },
      "source": [
        "01 - Considere a string A = \"Os limites só existem se você os deixar existir.(goku)\".\n",
        "\n",
        "Que fatia corresponde a (goku)?"
      ]
    },
    {
      "cell_type": "code",
      "metadata": {
        "colab": {
          "base_uri": "https://localhost:8080/"
        },
        "id": "tVaigbqHdowo",
        "outputId": "79fd3892-fae9-4a17-8780-aa3bfc15eeed"
      },
      "source": [
        "A = \"Os limites só existem se você os deixar existir.(goku)\"\n",
        "\n",
        "print(A[A.find(\"(\"):len(A)])"
      ],
      "execution_count": null,
      "outputs": [
        {
          "output_type": "stream",
          "text": [
            "(goku)\n"
          ],
          "name": "stdout"
        }
      ]
    },
    {
      "cell_type": "markdown",
      "metadata": {
        "id": "2hA2Tw6sdR95"
      },
      "source": [
        "02 - Escreva um programa que solicite uma frase ao usuário e escreva a frase toda em maiúscula e sem espaços em branco."
      ]
    },
    {
      "cell_type": "code",
      "metadata": {
        "colab": {
          "base_uri": "https://localhost:8080/"
        },
        "id": "Vuvvhq40e5nK",
        "outputId": "e9435074-4f73-4bab-e14c-bcbfa6c4deb7"
      },
      "source": [
        "frase = input(\"Escreva uma frase: \").upper().replace(\" \", \"\")\n",
        "\n",
        "print(frase)"
      ],
      "execution_count": null,
      "outputs": [
        {
          "output_type": "stream",
          "text": [
            "Escreva uma frase: isso é um teste\n",
            "ISSOÉUMTESTE\n"
          ],
          "name": "stdout"
        }
      ]
    },
    {
      "cell_type": "markdown",
      "metadata": {
        "id": "EntkYdeSdT_j"
      },
      "source": [
        "03 - Elabore um programa que recebe o seu nome, endereço e hobby e mostra cada uma das informações da seguinte forma:\n",
        "- Nome -> Letra maiúscula\n",
        "- Endereço -> Letra minúscula\n",
        "- Hobby -> Primeira letra maiúscula\n",
        "\n",
        "**Exemplo Entrada:**\n",
        "```\n",
        "Nome: bruno fabri\n",
        "Endereço: Rua ABC\n",
        "Hobby: jogar cs\n",
        "```\n",
        "\n",
        "**Exemplo Saída:**\n",
        "```\n",
        "Nome: BRUNO FABRI\n",
        "Endereço: rua abc\n",
        "Hobby: Jogar cs\n",
        "```"
      ]
    },
    {
      "cell_type": "code",
      "metadata": {
        "colab": {
          "base_uri": "https://localhost:8080/"
        },
        "id": "FzejMSVifgkG",
        "outputId": "4b5f0484-3915-405b-c701-42986041d10a"
      },
      "source": [
        "nome = input(\"Digite seu nome: \").upper()\n",
        "endereco = input(\"Digite seu endereco: \").lower()\n",
        "hobby = input(\"Digite seu hobby: \").capitalize()\n",
        "\n",
        "print(f\"\"\"\n",
        "{nome}\n",
        "{endereco}\n",
        "{hobby}\n",
        "\"\"\")\n"
      ],
      "execution_count": null,
      "outputs": [
        {
          "output_type": "stream",
          "text": [
            "Digite seu nome: lucas\n",
            "Digite seu endereco: TESTE\n",
            "Digite seu hobby: BRINCAR\n",
            "\n",
            "LUCAS\n",
            "teste\n",
            "Brincar\n",
            "\n"
          ],
          "name": "stdout"
        }
      ]
    }
  ]
}