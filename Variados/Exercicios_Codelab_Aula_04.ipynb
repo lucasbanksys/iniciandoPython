{
  "nbformat": 4,
  "nbformat_minor": 0,
  "metadata": {
    "colab": {
      "name": "Exercicios_Codelab_Aula_04.ipynb",
      "provenance": [],
      "collapsed_sections": [],
      "include_colab_link": true
    },
    "kernelspec": {
      "name": "python3",
      "display_name": "Python 3"
    },
    "language_info": {
      "name": "python"
    }
  },
  "cells": [
    {
      "cell_type": "markdown",
      "metadata": {
        "id": "view-in-github",
        "colab_type": "text"
      },
      "source": [
        "<a href=\"https://colab.research.google.com/github/lucasbanksys/iniciandoPython/blob/main/Exercicios_Codelab_Aula_04.ipynb\" target=\"_parent\"><img src=\"https://colab.research.google.com/assets/colab-badge.svg\" alt=\"Open In Colab\"/></a>"
      ]
    },
    {
      "cell_type": "markdown",
      "metadata": {
        "id": "SW-cnnj3AAlE"
      },
      "source": [
        "## Exercício 01\n",
        "\n",
        "Faça um programa que pergunte ao usuário um número e valide se o numero é par ou impar:\n",
        "\n",
        "* Crie uma variável para receber o valor, com conversão para int\n",
        "* Para um número ser par, a divisão dele por 2 tem que dar resto 0"
      ]
    },
    {
      "cell_type": "code",
      "metadata": {
        "id": "ZeuCDPZQFT9T"
      },
      "source": [
        ""
      ],
      "execution_count": null,
      "outputs": []
    },
    {
      "cell_type": "markdown",
      "metadata": {
        "id": "jXVUBuN3DcU-"
      },
      "source": [
        "## Exercício 02\n",
        "\n",
        "> Parte 1\n",
        "\n",
        "Faça um script que peça um valor e mostre na tela se o valor é positivo ou negativo.\n",
        "\n",
        "> Parte 2\n",
        "\n",
        "Agora implemente a funcionalidade de não aceitar o número 0, no input. (esse vai além do explicado até agora)"
      ]
    },
    {
      "cell_type": "code",
      "metadata": {
        "id": "bsM4V6SeHwJr"
      },
      "source": [
        ""
      ],
      "execution_count": null,
      "outputs": []
    },
    {
      "cell_type": "markdown",
      "metadata": {
        "id": "90mUizLXOKd3"
      },
      "source": [
        "## Exercício 03\n",
        "\n",
        "Faça um programa que peça dois números, imprima o maior deles ou imprima \"Numeros iguais\" se os números forem iguais."
      ]
    },
    {
      "cell_type": "code",
      "metadata": {
        "id": "7yXB2kfUVYuD"
      },
      "source": [
        ""
      ],
      "execution_count": null,
      "outputs": []
    },
    {
      "cell_type": "markdown",
      "metadata": {
        "id": "9BATv7tsOWOI"
      },
      "source": [
        "## Exercício 04\n",
        "\n",
        "Crie um programa que verifique se uma letra digitada é \"F\" ou \"M\". Conforme a letra, escrever: F - Feminino, M - Masculino, caso escreva outra letra: Sexo Biológico Inválido."
      ]
    },
    {
      "cell_type": "code",
      "metadata": {
        "id": "pRm8kyI7Wnp4"
      },
      "source": [
        ""
      ],
      "execution_count": null,
      "outputs": []
    },
    {
      "cell_type": "markdown",
      "metadata": {
        "id": "WX2j2ITtY3G5"
      },
      "source": [
        "### Exercício 05\n",
        "\n",
        "Crie um programa em Python que peça a nota do aluno, que deve ser um float entre 0.00 e 10.0\n",
        "\n",
        "* Se a nota for menor que 6.0, deve exibir a nota F.\n",
        "\n",
        "* Se a nota for de 6.0 até 7.0, deve exibir a nota D.\n",
        "\n",
        "* Se a nota for entre 7.0 e 8.0, deve exibir a nota C.\n",
        "\n",
        "* Se a nota for entre 8.0 e 9.0, deve exibir a nota B.\n",
        "\n",
        "* Por fim, se for entre 9.0 e 10.0, deve exibir um belo de um A."
      ]
    },
    {
      "cell_type": "code",
      "metadata": {
        "id": "4CjqLlFWY5Z-"
      },
      "source": [
        ""
      ],
      "execution_count": null,
      "outputs": []
    },
    {
      "cell_type": "markdown",
      "metadata": {
        "id": "xep4W_T-s-Ra"
      },
      "source": [
        "# *Mini Projetos*"
      ]
    },
    {
      "cell_type": "markdown",
      "metadata": {
        "id": "4YbMlSEZG7UM"
      },
      "source": [
        "## **PROJETO 01**\n",
        "\n",
        "*   Escreva um programa que receba uma string digitada pelo usuário;\n",
        "*   Caso a string seja \"medieval\", exiba no console \"espada\";\n",
        "*   Caso contrário, se a string for \"futurista\", exiba no console \"sabre de luz\";\n",
        "*   Caso contrário, exiba no console \"Tente novamente\""
      ]
    },
    {
      "cell_type": "code",
      "metadata": {
        "id": "tn9QH5pVG8Rq",
        "colab": {
          "base_uri": "https://localhost:8080/"
        },
        "outputId": "d0a43398-97cc-4245-c09e-8032d4c94b9f"
      },
      "source": [
        "# Resposta:\n",
        "\n",
        "resposta = input(\"Digite uma opção [medieval ou futurista]: \").lower().strip()\n",
        "\n",
        "print(\"\\n\")\n",
        "\n",
        "if resposta == \"medieval\":\n",
        "  print(\"espada\")\n",
        "elif resposta == \"futurista\":\n",
        "  print(\"sabre de luz\")\n",
        "else:\n",
        "  print(\"Tente novamente\")\n"
      ],
      "execution_count": 4,
      "outputs": [
        {
          "output_type": "stream",
          "text": [
            "Digite uma opção [medieval ou futurista]: medieval\n",
            "\n",
            "\n",
            "espada\n"
          ],
          "name": "stdout"
        }
      ]
    },
    {
      "cell_type": "markdown",
      "metadata": {
        "id": "zUGk1OiNHDik"
      },
      "source": [
        "## **PROJETO 02**\n",
        "\n",
        "* Escreva um programa que receba um ataque de espada ou sabre digitada pelo usuário;\n",
        "\n",
        "* Caso o ataque seja \"espada\", exiba no console \"VOCÊ AINDA NÃO MATOU O CHEFÃO\";\n",
        "\n",
        "* Caso contrário, se o ataque for \"sabre\", exiba no console \"VOCÊ DERROTOU O CHEFÃO COM O SABRE DE LUZ\";\n",
        "\n",
        "* Caso contrário, exiba no console \"ATAQUE NOVAMENTE\""
      ]
    },
    {
      "cell_type": "code",
      "metadata": {
        "id": "eNZokIIOHHkp"
      },
      "source": [
        "# Resposta:\n",
        "\n",
        "resposta = input(\"Digite o tipo de ataque [espada ou sabre]: \").lower().strip()\n",
        "\n",
        "print(\"\\n\")\n",
        "\n",
        "if resposta == \"espada\":\n",
        "  print(\"VOCÊ AINDA NÃO MATOU O CHEFÃO\")\n",
        "elif resposta == \"sabre\":\n",
        "  print(\"VOCÊ DERROTOU CHEFÃO COM O SABRE DE LUZ\")\n",
        "else:\n",
        "  print(\"ATAQUE NOVAMENTE\")\n"
      ],
      "execution_count": null,
      "outputs": []
    },
    {
      "cell_type": "markdown",
      "metadata": {
        "id": "NRhLAMa6ZfqU"
      },
      "source": [
        "## **DESAFIO 01**\n",
        "\n",
        "**Reajuste salarial**\n",
        "\n",
        "As empresas @.com resolveram dar um aumento de salário aos seus colaboradores e lhe contrataram para desenvolver o programa que calculará os reajustes.\n",
        "\n",
        "Faça um programa que recebe o salário de um colaborador e o reajuste segundo o seguinte critério, baseado no salário atual:\n",
        "* salários até R$ 280,00 (incluindo) : aumento de 20%\n",
        "\n",
        "* salários entre R\\$ 280,00 e R$ 700,00 : aumento de 15%\n",
        "\n",
        "* salários entre R\\$ 700,00 e R$ 1500,00 : aumento de 10%\n",
        "\n",
        "* salários de R$ 1500,00 em diante : aumento de 5% \n",
        "\n",
        "Após o aumento ser realizado, informe na tela:\n",
        "* o salário antes do reajuste;\n",
        "\n",
        "* o percentual de aumento aplicado;\n",
        "\n",
        "* o valor do aumento;\n",
        "\n",
        "* o novo salário, após o aumento.\""
      ]
    },
    {
      "cell_type": "code",
      "metadata": {
        "id": "VpC5oZINZXzt",
        "colab": {
          "base_uri": "https://localhost:8080/"
        },
        "outputId": "52baba9e-080d-45f3-a890-56c52c2336fb"
      },
      "source": [
        "salarioAtual = float(input(\"Digite seu salário atual: \"))\n",
        "\n",
        "if salarioAtual < 280:\n",
        "  percentual = \"20%\"\n",
        "  valorDoAumento = 0.2*salarioAtual\n",
        "  salarioNovo = 1.2*salarioAtual\n",
        "elif salarioAtual >= 280 and salarioAtual < 700:\n",
        "  percentual = \"15%\"\n",
        "  valorDoAumento = 0.15*salarioAtual\n",
        "  salarioNovo = 1.15*salarioAtual\n",
        "elif salarioAtual >= 700 and salarioAtual < 1500:\n",
        "  percentual = \"10%\"\n",
        "  valorDoAumento = 0.1*salarioAtual\n",
        "  salarioNovo = 1.1*salarioAtual\n",
        "elif salarioAtual >= 1500:\n",
        "  percentual = \"5%\"\n",
        "  valorDoAumento = 0.05*salarioAtual\n",
        "  salarioNovo = 1.05*salarioAtual\n",
        "\n",
        "print(f\"\"\"\n",
        "\n",
        "O salário antes do reajuste era de: R$ {salarioAtual:.2f}\n",
        "\n",
        "O percental de aumento foi de: {percentual}\n",
        "\n",
        "O valor do aumento foi de: R$ {valorDoAumento:.2f}\n",
        "\n",
        "O novo salário é de: R$ {salarioNovo:.2f}\n",
        "\n",
        "\"\"\")"
      ],
      "execution_count": 18,
      "outputs": [
        {
          "output_type": "stream",
          "text": [
            "Digite seu salário atual: 3000\n",
            "\n",
            "\n",
            "O salário antes do reajuste era de: R$ 3000.00\n",
            "\n",
            "O percental de aumento foi de: 5%\n",
            "\n",
            "O valor do aumento foi de: R$ 150.00\n",
            "\n",
            "O novo salário é de: R$ 3150.00\n",
            "\n",
            "\n"
          ],
          "name": "stdout"
        }
      ]
    },
    {
      "cell_type": "markdown",
      "metadata": {
        "id": "HvThpbU4aBGy"
      },
      "source": [
        "## **DESAFIO 02**\n",
        "\n",
        "**Jogo da adivinhação**\n",
        "\n",
        "Escreva um programa que faça o computador “pensar” em um número inteiro entre 0 e 10 e peça para o usuário tentar descobrir qual foi o número escolhido pelo computador. O programa deverá escrever na tela se o usuário venceu ou perdeu."
      ]
    },
    {
      "cell_type": "code",
      "metadata": {
        "id": "TVeHZbyQZIzO",
        "colab": {
          "base_uri": "https://localhost:8080/"
        },
        "outputId": "f76556f9-b81d-4d6b-ab61-cd54e38b8e45"
      },
      "source": [
        "import random\n",
        "\n",
        "numeroPensado = random.randint(1,10)\n",
        "numeroEscolhido = int(input(\"O computador escolheu um número de 1 a 10, tente adivinhar qual foi: \"))\n",
        "\n",
        "print(f\"\\nO número pensado pelo computador foi: {numeroPensado}\")\n",
        "\n",
        "if numeroPensado == numeroEscolhido:\n",
        "  print(\"\\nVocê venceu!\")\n",
        "else:\n",
        "  print(\"\\nVocê perdeu!\")\n"
      ],
      "execution_count": 47,
      "outputs": [
        {
          "output_type": "stream",
          "text": [
            "O computador escolheu um número de 1 a 10, tente adivinhar qual foi: 1\n",
            "\n",
            "O número pensado pelo computador foi: 1\n",
            "\n",
            "Você venceu!\n"
          ],
          "name": "stdout"
        }
      ]
    },
    {
      "cell_type": "markdown",
      "metadata": {
        "id": "mjLFAUooaOH1"
      },
      "source": [
        "## **Desafio 03**\n",
        "\n",
        "**Caixa eletrônico**\n",
        "\n",
        "Faça um Programa para um caixa eletrônico. O programa deverá perguntar ao usuário a valor do saque e depois informar quantas notas de cada valor serão fornecidas. As notas disponíveis serão as de 1, 5, 10, 50 e 100 reais. O valor mínimo é de 10 reais e o máximo de 600 reais. O programa não deve se preocupar com a quantidade de notas existentes na máquina.\n",
        "\n",
        "* Exemplo 1: Para sacar a quantia de 256 reais, o programa fornece duas notas de 100, uma nota de 50, uma nota de 5 e uma nota de 1;\n",
        "\n",
        "* Exemplo 2: Para sacar a quantia de 399 reais, o programa fornece três notas de 100, uma nota de 50, quatro notas de 10, uma nota de 5 e quatro notas de 1.\n",
        "\n"
      ]
    },
    {
      "cell_type": "code",
      "metadata": {
        "id": "sH65bTx-ZMLh",
        "colab": {
          "base_uri": "https://localhost:8080/"
        },
        "outputId": "f2cc8ef7-83af-403f-f786-340d844ae4c7"
      },
      "source": [
        "saque = 0\n",
        "saque = float(input(\"Digite o valor para saque (Valor mínimo: R$ 10,00 e valor máximo: R$ 600,00): \").replace(\",\", \".\"))\n",
        "saque = int(saque)\n",
        "\n",
        "notasCem = 0\n",
        "notasCinquenta = 0\n",
        "notasDez = 0\n",
        "notasCinco = 0\n",
        "\n",
        "if saque < 10 or saque > 600:\n",
        "  print(\"O valor está abaixo do mínimo para saque (R$ 10,00) ou acima do máximo (R$ 600,00).\")\n",
        "\n",
        "if saque >= 100:\n",
        "  notasCem = int(saque/100)\n",
        "  saque = saque - notasCem*100\n",
        "\n",
        "if saque >= 50:\n",
        "  notasCinquenta = int(saque/50)\n",
        "  saque = saque - notasCinquenta*50\n",
        "\n",
        "if saque >= 10:\n",
        "  notasDez = int(saque/10)\n",
        "  saque = saque - notasDez*10\n",
        "\n",
        "if saque >= 5:\n",
        "  notasCinco = int(saque/5)\n",
        "  saque = saque - notasCinco*5\n",
        "\n",
        "print(f\"\"\"\n",
        "Notas de R$ 100,00: {notasCem}\n",
        "Notas de R$ 50,00: {notasCinquenta}\n",
        "Notas de R$ 10,00: {notasDez}\n",
        "Notas de R$ 5,00: {notasCinco}\n",
        "Notas de R$ 1,00: {saque}\n",
        "\"\"\")"
      ],
      "execution_count": 115,
      "outputs": [
        {
          "output_type": "stream",
          "text": [
            "Digite o valor para saque (Valor mínimo: R$ 10,00 e valor máximo: R$ 600,00): 1\n",
            "O valor está abaixo do mínimo para saque (R$ 10,00) ou acima do máximo (R$ 600,00).\n",
            "\n",
            "Notas de R$ 100,00: 0\n",
            "Notas de R$ 50,00: 0\n",
            "Notas de R$ 10,00: 0\n",
            "Notas de R$ 5,00: 0\n",
            "Notas de R$ 1,00: 1\n",
            "\n"
          ],
          "name": "stdout"
        }
      ]
    }
  ]
}